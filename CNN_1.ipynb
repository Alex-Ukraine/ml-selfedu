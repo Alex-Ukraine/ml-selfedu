{
  "nbformat": 4,
  "nbformat_minor": 0,
  "metadata": {
    "colab": {
      "name": "CNN 1",
      "provenance": [],
      "authorship_tag": "ABX9TyMf6VWI8e8VDb0CaGR3nWhT",
      "include_colab_link": true
    },
    "kernelspec": {
      "name": "python3",
      "display_name": "Python 3"
    }
  },
  "cells": [
    {
      "cell_type": "markdown",
      "metadata": {
        "id": "view-in-github",
        "colab_type": "text"
      },
      "source": [
        "<a href=\"https://colab.research.google.com/github/Alex-Ukraine/ml-selfedu/blob/main/CNN_1.ipynb\" target=\"_parent\"><img src=\"https://colab.research.google.com/assets/colab-badge.svg\" alt=\"Open In Colab\"/></a>"
      ]
    },
    {
      "cell_type": "markdown",
      "metadata": {
        "id": "QVJK_L0SzlSG"
      },
      "source": [
        "Pooling (изменение масштаба)\n",
        "* MaxPooling - отбор наибольших значений;\n",
        "* MinPooling - отбор наименьших значений;\n",
        "* AveragePooling - отбор средних значений;\n",
        "\n",
        "Ян Лекун, Convolutional Neural Networks (CNN)\n",
        "Сверточные нейронные сети\n",
        "Есть понятия ядро фильтра и свёртка\n",
        "\n",
        "слой свёточной нейронной сети задаётся \n",
        "* keras.layers.Conv2D(filters, kernel_size, strides=(1, 1), ...)\n",
        "\n",
        "* filters - число ядер(каналов);\n",
        "* kernel_size - размер ядра (в виде котежа двух чисел);\n",
        "* strides - шас сканирования фильтров по осям плоскости (по умолчанию один пиксел)\n",
        "\n",
        "пример архитиктуры:\n",
        "> model = keras.Sequential([Conv2D(32, (3,3), padding='same', activation='relu', input_shape=(28, 28,1)),\n",
        "    ...\n",
        "])\n",
        "\n",
        "дальше мы должны укрупнять масштаб полученных признаков:\n",
        "> keras.layers.MaxPooling2D(pool_size=(2,2), strides=None, padding='valid', data_format=None)\n",
        "\n",
        "> pool_size - размер окна\n",
        "\n",
        "> strides - шаг сканирования по координатам плоскости\n",
        "\n",
        "> model = keras.Sequential([Conv2D(32, (3,3), padding='same', activation='relu', input_shape=(28, 28,1)),\n",
        "                          MaxPooling2D((2,2), strides=2)])\n",
        "\n",
        "> Conv1D, Conv2D, Conv3D\n",
        "* аудио - 1D(одномерный сигнал)\n",
        "* изображения - 2D(двумерный сигнал)\n",
        "* видео - 3D(трехмерный сигнал)"
      ]
    },
    {
      "cell_type": "code",
      "metadata": {
        "id": "5YHQwzt6mnvK"
      },
      "source": [
        "import numpy as np\n",
        "import matplotlib.pyplot as plt\n",
        "from tensorflow.keras.datasets import mnist # 60 000 изображений в обучающей выборке и 10 000 в тестовой\n",
        "from tensorflow import keras\n",
        "from tensorflow.keras.layers import Dense, Flatten, Conv2D, MaxPooling2D\n",
        "%matplotlib inline"
      ],
      "execution_count": 1,
      "outputs": []
    },
    {
      "cell_type": "markdown",
      "metadata": {
        "id": "cCSu8jppnymS"
      },
      "source": [
        "Загрузка обучающей и тестовой выборок"
      ]
    },
    {
      "cell_type": "markdown",
      "metadata": {
        "id": "67XVeSVioAL6"
      },
      "source": [
        "* x_train - изображения цыфр обучающей выборки;\n",
        "* y_train - вектор соответствуюющих значений цифр (например, если на i-м изображении нарисована 5, то y_train[i]=5);\n",
        "* x_test - изображения цифр тестовой выборки;\n",
        "* y_test - вектор соответствующих значений цифр для тестовой выборки."
      ]
    },
    {
      "cell_type": "code",
      "metadata": {
        "id": "7F9iYasdnxtl",
        "outputId": "72d2b06b-0da8-4d02-fc48-76de4f4924ef",
        "colab": {
          "base_uri": "https://localhost:8080/",
          "height": 51
        }
      },
      "source": [
        "(x_train, y_train), (x_test, y_test) = mnist.load_data() # загружаем данные в коллекции"
      ],
      "execution_count": 2,
      "outputs": [
        {
          "output_type": "stream",
          "text": [
            "Downloading data from https://storage.googleapis.com/tensorflow/tf-keras-datasets/mnist.npz\n",
            "11493376/11490434 [==============================] - 0s 0us/step\n"
          ],
          "name": "stdout"
        }
      ]
    },
    {
      "cell_type": "code",
      "metadata": {
        "id": "skYkPLg1pR5F"
      },
      "source": [
        "# стандартизация входных данных\n",
        "x_train = x_train / 255\n",
        "x_test = x_test / 255"
      ],
      "execution_count": 3,
      "outputs": []
    },
    {
      "cell_type": "markdown",
      "metadata": {
        "id": "oYeLYWm9rhGh"
      },
      "source": [
        "Преобразование входных данных значений в векторы по категориям"
      ]
    },
    {
      "cell_type": "code",
      "metadata": {
        "id": "7geUc6ndpeHy"
      },
      "source": [
        "y_train_cat = keras.utils.to_categorical(y_train, 10)\n",
        "y_test_cat = keras.utils.to_categorical(y_test, 10)"
      ],
      "execution_count": 4,
      "outputs": []
    },
    {
      "cell_type": "code",
      "metadata": {
        "id": "goSbTKT4priy"
      },
      "source": [
        "x_train = np.expand_dims(x_train, axis=3) # добавляем 4-ю ось\n",
        "x_test = np.expand_dims(x_test, axis=3)"
      ],
      "execution_count": 5,
      "outputs": []
    },
    {
      "cell_type": "markdown",
      "metadata": {
        "id": "vBKguWYfr2ZL"
      },
      "source": [
        "Формирование модели НС и вывод её структуры в консоль"
      ]
    },
    {
      "cell_type": "code",
      "metadata": {
        "id": "UvIHXohwr72w",
        "outputId": "1d41f37f-9baf-444b-af47-f1ecca6bfacb",
        "colab": {
          "base_uri": "https://localhost:8080/",
          "height": 408
        }
      },
      "source": [
        "model = keras.Sequential([\n",
        "    Conv2D(32, (3,3), padding='same', activation='relu', input_shape=(28, 28, 1)),\n",
        "    MaxPooling2D((2, 2), strides=2),\n",
        "    Conv2D(64, (3,3), padding='same', activation='relu'),\n",
        "    MaxPooling2D((2, 2), strides=2),\n",
        "    Flatten(),\n",
        "    Dense(128, activation='relu'),\n",
        "    Dense(10, activation='softmax')\n",
        "])\n",
        "\n",
        "print(model.summary()) # вывод структуры НС в консоль"
      ],
      "execution_count": 6,
      "outputs": [
        {
          "output_type": "stream",
          "text": [
            "Model: \"sequential\"\n",
            "_________________________________________________________________\n",
            "Layer (type)                 Output Shape              Param #   \n",
            "=================================================================\n",
            "conv2d (Conv2D)              (None, 28, 28, 32)        320       \n",
            "_________________________________________________________________\n",
            "max_pooling2d (MaxPooling2D) (None, 14, 14, 32)        0         \n",
            "_________________________________________________________________\n",
            "conv2d_1 (Conv2D)            (None, 14, 14, 64)        18496     \n",
            "_________________________________________________________________\n",
            "max_pooling2d_1 (MaxPooling2 (None, 7, 7, 64)          0         \n",
            "_________________________________________________________________\n",
            "flatten (Flatten)            (None, 3136)              0         \n",
            "_________________________________________________________________\n",
            "dense (Dense)                (None, 128)               401536    \n",
            "_________________________________________________________________\n",
            "dense_1 (Dense)              (None, 10)                1290      \n",
            "=================================================================\n",
            "Total params: 421,642\n",
            "Trainable params: 421,642\n",
            "Non-trainable params: 0\n",
            "_________________________________________________________________\n",
            "None\n"
          ],
          "name": "stdout"
        }
      ]
    },
    {
      "cell_type": "markdown",
      "metadata": {
        "id": "NQCnms7RseV2"
      },
      "source": [
        "Компиляция НС с оптимизацией по Adam и критерием - категориальная кросс-энтропия"
      ]
    },
    {
      "cell_type": "code",
      "metadata": {
        "id": "nrnKLfJksqk4"
      },
      "source": [
        "model.compile(optimizer='adam',\n",
        "              loss='categorical_crossentropy', # любимчик публики задачи классификации\n",
        "              metrics=['accuracy'])"
      ],
      "execution_count": 7,
      "outputs": []
    },
    {
      "cell_type": "markdown",
      "metadata": {
        "id": "vP45NfkSzvm3"
      },
      "source": [
        "Запуск процесса обучения: 80% - обучающая выборка, 20% - выборка валидации"
      ]
    },
    {
      "cell_type": "code",
      "metadata": {
        "id": "Mksxm88ezuGM",
        "outputId": "7e191982-c571-4e78-82b5-5a5418b4d690",
        "colab": {
          "base_uri": "https://localhost:8080/",
          "height": 238
        }
      },
      "source": [
        "# validation_split - разбиение на обучающую выборку и проверочную\n",
        "his = model.fit(x_train, y_train_cat, batch_size=32, epochs=5, validation_split=0.2) "
      ],
      "execution_count": 8,
      "outputs": [
        {
          "output_type": "stream",
          "text": [
            "Epoch 1/6\n",
            "1500/1500 [==============================] - 61s 41ms/step - loss: 0.1420 - accuracy: 0.9564 - val_loss: 0.0567 - val_accuracy: 0.9838\n",
            "Epoch 2/6\n",
            "1500/1500 [==============================] - 63s 42ms/step - loss: 0.0476 - accuracy: 0.9856 - val_loss: 0.0490 - val_accuracy: 0.9859\n",
            "Epoch 3/6\n",
            "1500/1500 [==============================] - 60s 40ms/step - loss: 0.0311 - accuracy: 0.9902 - val_loss: 0.0420 - val_accuracy: 0.9884\n",
            "Epoch 4/6\n",
            "1500/1500 [==============================] - 60s 40ms/step - loss: 0.0234 - accuracy: 0.9926 - val_loss: 0.0500 - val_accuracy: 0.9863\n",
            "Epoch 5/6\n",
            "1500/1500 [==============================] - 60s 40ms/step - loss: 0.0169 - accuracy: 0.9948 - val_loss: 0.0432 - val_accuracy: 0.9864\n",
            "Epoch 6/6\n",
            "1500/1500 [==============================] - 60s 40ms/step - loss: 0.0130 - accuracy: 0.9954 - val_loss: 0.0378 - val_accuracy: 0.9896\n"
          ],
          "name": "stdout"
        },
        {
          "output_type": "execute_result",
          "data": {
            "text/plain": [
              "<tensorflow.python.keras.callbacks.History at 0x7f1607091780>"
            ]
          },
          "metadata": {
            "tags": []
          },
          "execution_count": 8
        }
      ]
    },
    {
      "cell_type": "markdown",
      "metadata": {
        "id": "oSSre62S1ouZ"
      },
      "source": [
        "получим loss и accuracy"
      ]
    },
    {
      "cell_type": "code",
      "metadata": {
        "id": "YPqJFF4i1XR6",
        "outputId": "637987ff-b34c-4646-de38-007106d90fa7",
        "colab": {
          "base_uri": "https://localhost:8080/",
          "height": 51
        }
      },
      "source": [
        "model.evaluate(x_test, y_test_cat)"
      ],
      "execution_count": 9,
      "outputs": [
        {
          "output_type": "stream",
          "text": [
            "313/313 [==============================] - 4s 12ms/step - loss: 0.0326 - accuracy: 0.9908\n"
          ],
          "name": "stdout"
        },
        {
          "output_type": "execute_result",
          "data": {
            "text/plain": [
              "[0.03263330087065697, 0.9908000230789185]"
            ]
          },
          "metadata": {
            "tags": []
          },
          "execution_count": 9
        }
      ]
    },
    {
      "cell_type": "markdown",
      "metadata": {
        "id": "DL0G0daRs3qq"
      },
      "source": [
        ""
      ]
    }
  ]
}