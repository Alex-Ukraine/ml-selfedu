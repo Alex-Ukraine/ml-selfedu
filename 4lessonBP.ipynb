{
  "nbformat": 4,
  "nbformat_minor": 0,
  "metadata": {
    "colab": {
      "name": "4lessonBP.ipynb",
      "provenance": [],
      "authorship_tag": "ABX9TyOZEaR81cDt5+du9LrMOsAG",
      "include_colab_link": true
    },
    "kernelspec": {
      "name": "python3",
      "display_name": "Python 3"
    }
  },
  "cells": [
    {
      "cell_type": "markdown",
      "metadata": {
        "id": "view-in-github",
        "colab_type": "text"
      },
      "source": [
        "<a href=\"https://colab.research.google.com/github/Alex-Ukraine/ml-selfedu/blob/main/4lessonBP.ipynb\" target=\"_parent\"><img src=\"https://colab.research.google.com/assets/colab-badge.svg\" alt=\"Open In Colab\"/></a>"
      ]
    },
    {
      "cell_type": "code",
      "metadata": {
        "id": "Id4xjM-sN5B9"
      },
      "source": [
        "import numpy as np"
      ],
      "execution_count": 14,
      "outputs": []
    },
    {
      "cell_type": "code",
      "metadata": {
        "id": "PXKJoGuiN-tb"
      },
      "source": [
        "def f(x): # функция вычисления гиперболического тангенса\n",
        "    return 2/(1+np.exp(-x)) - 1"
      ],
      "execution_count": 15,
      "outputs": []
    },
    {
      "cell_type": "code",
      "metadata": {
        "id": "Y-77xmFCOFmK"
      },
      "source": [
        "def df(x): # функция для вычисления производной\n",
        "    return 0.5*(1 + x)*(1 - x)"
      ],
      "execution_count": 16,
      "outputs": []
    },
    {
      "cell_type": "code",
      "metadata": {
        "id": "CKXOE6JYON76"
      },
      "source": [
        "# начальные значения весов\n",
        "W1 = np.array([[-0.2, 0.3, -0.4], [0.1, -0.3, -0.4]]) # для первого слоя\n",
        "W2 = np.array([0.2, 0.3]) # для второго слоя"
      ],
      "execution_count": 17,
      "outputs": []
    },
    {
      "cell_type": "code",
      "metadata": {
        "id": "eWbM16gbOdg6"
      },
      "source": [
        "# функция запускает вектор наблюдея через нейронную сеть\n",
        "def go_forward(inp):\n",
        "    sum = np.dot(W1, inp)\n",
        "    out = np.array([f(x) for x in sum]) # выходное значение для скрытого слоя\n",
        "\n",
        "    sum = np.dot(W2, out)\n",
        "    y = f(sum) # выходное значение для последнего нейрона(на выходе сети)\n",
        "    return (y, out)"
      ],
      "execution_count": 18,
      "outputs": []
    },
    {
      "cell_type": "code",
      "metadata": {
        "id": "KT4iX_QoOwu6"
      },
      "source": [
        "def train(epoch):\n",
        "    global W2, W1\n",
        "    lmd = 0.01 # шаг обучения\n",
        "    N = 10000 # число итераций\n",
        "    count = len(epoch) # размер обучающей выборки\n",
        "    for k in range(N):\n",
        "        x = epoch[np.random.randint(0, count)] # случайный выбор входного сигнала из обучающей выборки\n",
        "        y, out = go_forward(x[0:3]) # прямой проход по НС и вычисление выходных значений нейронной сети\n",
        "        e = y - x[-1] # ошибка\n",
        "        delta = e*df(y) # локальный градиент\n",
        "        W2[0] = W2[0] - lmd * delta * out[0] # корректировка веса первой связи\n",
        "        W2[1] = W2[1] - lmd * delta * out[1] # корректировка веса второй связи\n",
        "\n",
        "        delta2 = W2*delta*df(out) # вектор из 2-х величин локальных градиентов\n",
        "\n",
        "        # корректировка связей первого слоя\n",
        "        W1[0, :] = W1[0, :] - np.array(x[0:3]) * delta2[0] * lmd\n",
        "        W1[1, :] = W1[1, :] - np.array(x[0:3]) * delta2[1] * lmd"
      ],
      "execution_count": 19,
      "outputs": []
    },
    {
      "cell_type": "code",
      "metadata": {
        "id": "pI44UnpxRXce"
      },
      "source": [
        "# обучающая выборка (она же полная выборка)\n",
        "epoch = [(-1, -1, -1, -1),\n",
        "         (-1, -1, 1, 1),\n",
        "         (-1, 1, -1, -1),\n",
        "          (-1, 1, 1, 1),\n",
        "         (1, -1, -1, -1),\n",
        "         (1, -1, 1, 1),\n",
        "         (1, 1, -1, -1),\n",
        "         (1, 1, 1, -1)]"
      ],
      "execution_count": 20,
      "outputs": []
    },
    {
      "cell_type": "code",
      "metadata": {
        "id": "h8nzDC9CSDUj"
      },
      "source": [
        "train(epoch) # запуск обучения сети"
      ],
      "execution_count": 21,
      "outputs": []
    },
    {
      "cell_type": "code",
      "metadata": {
        "id": "0oCHLCkySJpz",
        "outputId": "885a529b-fbd0-4268-9dd2-d8ef04549384",
        "colab": {
          "base_uri": "https://localhost:8080/",
          "height": 153
        }
      },
      "source": [
        "# проверка полученных результатов\n",
        "for x in epoch:\n",
        "    y, out = go_forward(x[0:3])\n",
        "    print(f\"Выходное значение НС: {y} => {x[-1]}\")"
      ],
      "execution_count": 22,
      "outputs": [
        {
          "output_type": "stream",
          "text": [
            "Выходное значение НС: 0.04323781677172578 => -1\n",
            "Выходное значение НС: 0.9485747386115502 => 1\n",
            "Выходное значение НС: -0.8811453963885061 => -1\n",
            "Выходное значение НС: 0.8863199282995027 => 1\n",
            "Выходное значение НС: -0.8863199282995027 => -1\n",
            "Выходное значение НС: 0.8811453963885061 => 1\n",
            "Выходное значение НС: -0.9485747386115502 => -1\n",
            "Выходное значение НС: -0.04323781677172578 => -1\n"
          ],
          "name": "stdout"
        }
      ]
    }
  ]
}