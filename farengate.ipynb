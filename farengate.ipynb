{
  "nbformat": 4,
  "nbformat_minor": 0,
  "metadata": {
    "colab": {
      "name": "farengate.ipynb",
      "provenance": [],
      "authorship_tag": "ABX9TyOGEVJaWktWk5ShJ1aVb31H",
      "include_colab_link": true
    },
    "kernelspec": {
      "name": "python3",
      "display_name": "Python 3"
    }
  },
  "cells": [
    {
      "cell_type": "markdown",
      "metadata": {
        "id": "view-in-github",
        "colab_type": "text"
      },
      "source": [
        "<a href=\"https://colab.research.google.com/github/Alex-Ukraine/ml-selfedu/blob/main/farengate.ipynb\" target=\"_parent\"><img src=\"https://colab.research.google.com/assets/colab-badge.svg\" alt=\"Open In Colab\"/></a>"
      ]
    },
    {
      "cell_type": "markdown",
      "metadata": {
        "id": "VY5WMNDYKQ95"
      },
      "source": [
        "Обучим нейронную сеть переводить градусы цельсия в градусы фаренгейта F = C * 1.8 + 32, найдём весовые коэффициенты 1.8 и 32;\n",
        "y = w1*x + 1*w2"
      ]
    },
    {
      "cell_type": "code",
      "metadata": {
        "id": "NO2-xJovETe4"
      },
      "source": [
        "import numpy as np\n",
        "import matplotlib.pyplot as plt\n",
        "from tensorflow import keras\n",
        "from tensorflow.keras.layers import Dense"
      ],
      "execution_count": 2,
      "outputs": []
    },
    {
      "cell_type": "markdown",
      "metadata": {
        "id": "0Gi8ejk0FSh6"
      },
      "source": [
        "Обучающая выборка"
      ]
    },
    {
      "cell_type": "code",
      "metadata": {
        "id": "MA5-RyQ6EjN_",
        "outputId": "ffc99011-bea4-416c-956d-9628d3dc8d06",
        "colab": {
          "base_uri": "https://localhost:8080/",
          "height": 265
        }
      },
      "source": [
        "c = np.array([-40, -10, 0, 8, 15, 22, 38]) # то что подаётся на вход\n",
        "f = np.array([-40, 14, 32, 46, 59, 72,100]) # то что должны ожидать на выходе\n",
        "\n",
        "model = keras.Sequential() # модель многослойной нейронной сети\n",
        "\n",
        "# создаём слой полносвязной нейронной сети\n",
        "# units - количество нейронов, input_shape - сколько входов, activation - функция активации\n",
        "model.add(Dense(units=1, input_shape=(1,), activation='linear'))\n",
        "\n",
        "# создадим нейронную сеть с начальными весовыми коэффициентами\n",
        "# loss - критерий качества, optimizer - алгоритм оптимизации\n",
        "model.compile(loss='mean_squared_error', optimizer=keras.optimizers.Adam(0.1))\n",
        "\n",
        "# запуск алгоритма обучения\n",
        "history = model.fit(c, f, epochs=500, verbose=False)\n",
        "\n",
        "plt.plot(history.history['loss'])\n",
        "plt.grid(True)\n",
        "plt.show()"
      ],
      "execution_count": 4,
      "outputs": [
        {
          "output_type": "display_data",
          "data": {
            "image/png": "[encoded data removed]",
            "text/plain": [
              "<Figure size 432x288 with 1 Axes>"
            ]
          },
          "metadata": {
            "tags": [],
            "needs_background": "light"
          }
        }
      ]
    },
    {
      "cell_type": "code",
      "metadata": {
        "id": "2P1XVcAWFagG",
        "outputId": "5589ed66-10d6-4739-d7b3-25ba90894fe6",
        "colab": {
          "base_uri": "https://localhost:8080/",
          "height": 34
        }
      },
      "source": [
        "# получим предсказание по обученной модели\n",
        "print(model.predict([100]))"
      ],
      "execution_count": 5,
      "outputs": [
        {
          "output_type": "stream",
          "text": [
            "[[211.32732]]\n"
          ],
          "name": "stdout"
        }
      ]
    },
    {
      "cell_type": "code",
      "metadata": {
        "id": "CUVBdmsRJNuA",
        "outputId": "7a194e9f-c03d-4e76-fbc4-8ca51e382680",
        "colab": {
          "base_uri": "https://localhost:8080/",
          "height": 34
        }
      },
      "source": [
        "# получим весовые коэффициенты по обученной модели\n",
        "print(model.get_weights())"
      ],
      "execution_count": 6,
      "outputs": [
        {
          "output_type": "stream",
          "text": [
            "[array([[1.8220749]], dtype=float32), array([29.119823], dtype=float32)]\n"
          ],
          "name": "stdout"
        }
      ]
    }
  ]
}