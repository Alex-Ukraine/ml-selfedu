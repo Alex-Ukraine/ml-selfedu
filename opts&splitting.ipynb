{
  "nbformat": 4,
  "nbformat_minor": 0,
  "metadata": {
    "colab": {
      "name": "opts&splitting.ipynb",
      "provenance": [],
      "authorship_tag": "ABX9TyPp6Yh7cFoajh2mnjEHhaYy",
      "include_colab_link": true
    },
    "kernelspec": {
      "name": "python3",
      "display_name": "Python 3"
    }
  },
  "cells": [
    {
      "cell_type": "markdown",
      "metadata": {
        "id": "view-in-github",
        "colab_type": "text"
      },
      "source": [
        "<a href=\"https://colab.research.google.com/github/Alex-Ukraine/ml-selfedu/blob/main/opts%26splitting.ipynb\" target=\"_parent\"><img src=\"https://colab.research.google.com/assets/colab-badge.svg\" alt=\"Open In Colab\"/></a>"
      ]
    },
    {
      "cell_type": "code",
      "metadata": {
        "id": "mSsP5PSYhjCi"
      },
      "source": [
        ""
      ],
      "execution_count": null,
      "outputs": []
    },
    {
      "cell_type": "markdown",
      "metadata": {
        "id": "x43H2AJ668nd"
      },
      "source": [
        "Задачи при работе с НС, с чем приходиться разбираться:\n",
        "1. со структурой НС;\n",
        "2. способами отптимизации алгоритма градиентного спуска;\n",
        "3. критерием качества;\n",
        "4. способом формирования выборки валидации из обучающего множества."
      ]
    },
    {
      "cell_type": "markdown",
      "metadata": {
        "id": "2BqjDFeA7jJb"
      },
      "source": [
        "оптимизатор и критерий качества указывается при компиляции."
      ]
    },
    {
      "cell_type": "markdown",
      "metadata": {
        "id": "_MhhFx4W77Kq"
      },
      "source": [
        "создадим свой оптимизатор"
      ]
    },
    {
      "cell_type": "code",
      "metadata": {
        "id": "D9gebiwZ8I6Y"
      },
      "source": [
        "myAdam = keras.optimizers.Adam(learning_rate=0.1) # укажем шаг сходимости"
      ],
      "execution_count": null,
      "outputs": []
    },
    {
      "cell_type": "markdown",
      "metadata": {
        "id": "0t9VhHX-8LaC"
      },
      "source": [
        "затем его можно указать прикомпилировании"
      ]
    },
    {
      "cell_type": "code",
      "metadata": {
        "id": "kxiseUEH8Jfq"
      },
      "source": [
        "model.compile(optimizer=myAdam,\n",
        "              loss='categorical_crossentropy',\n",
        "              metrics=['accuracy'])"
      ],
      "execution_count": null,
      "outputs": []
    },
    {
      "cell_type": "markdown",
      "metadata": {
        "id": "tYWX0ek184zi"
      },
      "source": [
        "порядок выбора оптимизатора:\n",
        "1. Adam;\n",
        "2. SGD;\n",
        "3. "
      ]
    },
    {
      "cell_type": "code",
      "metadata": {
        "id": "zaKmlctn9MyE"
      },
      "source": [
        "myOpt = keras.optimizers.SGD(learning_rate=0.1, momentum=0.0, nesterov=True) # момент НУЛЕВОЙ, момент выбран по нестерову"
      ],
      "execution_count": null,
      "outputs": []
    },
    {
      "cell_type": "markdown",
      "metadata": {
        "id": "FUHvLaLZODWT"
      },
      "source": [
        "Зададим выборку лийнейным образом и случаным в разных блоках кода"
      ]
    },
    {
      "cell_type": "code",
      "metadata": {
        "id": "GpGBi7ptLooM"
      },
      "source": [
        "size_val = 1000 # размер выборки валидации\n",
        "x_val_split = x_train[:size_val] # выделяем первые наблюдения из обучающей выборки\n",
        "y_val_split = y_train_cat[:size_val] # в выборку валидации\n",
        "\n",
        "x_train_split = x_train[size_val:] # выделяем последующие наблюдениядля обучающей выборки\n",
        "y_train_split = y_train_cat[size_val:]"
      ],
      "execution_count": null,
      "outputs": []
    },
    {
      "cell_type": "code",
      "metadata": {
        "id": "dPpR1m2bM56C"
      },
      "source": [
        "from sklearn.model_selection import train_test_split # случайным образом разбивает выборку\n",
        "x_train_split, x_val_split, y_train_split, y_val_split = train_test_split(x_train, y_train_cat,\n",
        "                                                                          test_size=0.2)"
      ],
      "execution_count": null,
      "outputs": []
    },
    {
      "cell_type": "code",
      "metadata": {
        "id": "mJBzM0amMVES"
      },
      "source": [
        "model.fit(x_train_split, y_train_split, batch_size=32, epochs=5,\n",
        "          validation_data=(x_val_split, y_val_split))"
      ],
      "execution_count": null,
      "outputs": []
    }
  ]
}