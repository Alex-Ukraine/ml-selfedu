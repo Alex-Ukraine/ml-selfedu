{
  "nbformat": 4,
  "nbformat_minor": 0,
  "metadata": {
    "colab": {
      "name": "теория.ipynb",
      "provenance": [],
      "authorship_tag": "ABX9TyNcLkNCodcz60okNVVdNLSA",
      "include_colab_link": true
    },
    "kernelspec": {
      "name": "python3",
      "display_name": "Python 3"
    }
  },
  "cells": [
    {
      "cell_type": "markdown",
      "metadata": {
        "id": "view-in-github",
        "colab_type": "text"
      },
      "source": [
        "<a href=\"https://colab.research.google.com/github/Alex-Ukraine/ml-selfedu/blob/main/%D1%82%D0%B5%D0%BE%D1%80%D0%B8%D1%8F.ipynb\" target=\"_parent\"><img src=\"https://colab.research.google.com/assets/colab-badge.svg\" alt=\"Open In Colab\"/></a>"
      ]
    },
    {
      "cell_type": "markdown",
      "metadata": {
        "id": "vhxnRgEKbcjn"
      },
      "source": [
        "back propagetion\n",
        "\n",
        "1. как оптимизировать алгоритм градиентного спуска для ускорения обучения;\n",
        "2. как инициализировать начальные значения весовых коэффициентов;\n",
        "3. как выполнять стандартизацию входных данных;\n",
        "4. как готовить обучающую выборку и как её подавать на вход сети;\n",
        "5. какую функцию активации нейронов выбрать;\n",
        "6. когда останавливать процесс обучения;\n",
        "7. какие критерии качества обучения использовать;\n",
        "\n"
      ]
    },
    {
      "cell_type": "markdown",
      "metadata": {
        "id": "_vQ3vYsicevG"
      },
      "source": [
        "Рекомендация обучения №1: запускать алгоритм для разных началных значений весовых коэффициентов. И, затем, отобрать лучший вариант. Начальные значения генерируем случайным образом в окрестности нуля, кроме тех, что относятся в bias'ам.\n",
        "\n"
      ]
    },
    {
      "cell_type": "markdown",
      "metadata": {
        "id": "JefRqwCZc9cc"
      },
      "source": [
        "Виды оптимизаций: \n",
        "1. оптимизация на основе моментов (momentum);\n",
        "2. ускоренные градиенты Нестерова (nesterov momentum);\n",
        "3. метод Adagrad;\n",
        "4. методы RMSProp и Adadelta;\n",
        "5. метод Adam и NAdam."
      ]
    },
    {
      "cell_type": "markdown",
      "metadata": {
        "id": "nqTxDXk6dpZt"
      },
      "source": [
        "Рекомендация обучения №2: запуская алгоритм обучения с оптимизацией по Adam или Нестерову для ускорения НС."
      ]
    },
    {
      "cell_type": "markdown",
      "metadata": {
        "id": "G7NZOs2kd4re"
      },
      "source": [
        "Рекомендация №3: выполнять нормировку входных данных и запоминать нормировочные параметры min, max из обучающей выборки."
      ]
    },
    {
      "cell_type": "markdown",
      "metadata": {
        "id": "nOFM1nIveHh1"
      },
      "source": [
        "Рекоментадия обучения №4: помещать в обучающую выборку самые разнообразные данные примерно равного количества."
      ]
    },
    {
      "cell_type": "markdown",
      "metadata": {
        "id": "bPhq620VeXvd"
      },
      "source": [
        "Рекомендация обучения №5: наблюдения на вход сети подавать случайным образом, корректировать веса после серии наблюдений, разбитых по mini-batch."
      ]
    },
    {
      "cell_type": "markdown",
      "metadata": {
        "id": "TdZv77Wgm2Kq"
      },
      "source": [
        "Рекомендация обучения №6: использовать минимальное необходимое число нейронов в нейронной сети."
      ]
    },
    {
      "cell_type": "markdown",
      "metadata": {
        "id": "LIbuGlufnjdn"
      },
      "source": [
        "Рекомендация №7: разбивать все множество наблюдей на три выборки: обучающую,валидации и тестовую. "
      ]
    },
    {
      "cell_type": "markdown",
      "metadata": {
        "id": "GXOSGYcsouov"
      },
      "source": [
        "Критерии останова процесса обучения:\n",
        "1. Расхождение показателя качества для обучающей выборки и валидации.\n",
        "2. От итерации к итерации (по всей эпохе) показатль качества Q практически не меняется;\n",
        "3. ПРоисходит малое изменение весовых коэффициентов;\n",
        "4. Достигли максимального числа итераций."
      ]
    },
    {
      "cell_type": "code",
      "metadata": {
        "id": "4h0r2GwpbbbU"
      },
      "source": [
        ""
      ],
      "execution_count": null,
      "outputs": []
    }
  ]
}