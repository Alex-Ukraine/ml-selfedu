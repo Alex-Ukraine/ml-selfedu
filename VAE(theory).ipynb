{
  "nbformat": 4,
  "nbformat_minor": 0,
  "metadata": {
    "colab": {
      "name": "VAE(theory).ipynb",
      "provenance": [],
      "collapsed_sections": [],
      "authorship_tag": "ABX9TyPHKH3rAIgrTSyYKkHIMk7N",
      "include_colab_link": true
    },
    "kernelspec": {
      "name": "python3",
      "display_name": "Python 3"
    }
  },
  "cells": [
    {
      "cell_type": "markdown",
      "metadata": {
        "id": "view-in-github",
        "colab_type": "text"
      },
      "source": [
        "<a href=\"https://colab.research.google.com/github/Alex-Ukraine/ml-selfedu/blob/main/VAE(theory).ipynb\" target=\"_parent\"><img src=\"https://colab.research.google.com/assets/colab-badge.svg\" alt=\"Open In Colab\"/></a>"
      ]
    },
    {
      "cell_type": "markdown",
      "metadata": {
        "id": "Hm2kEDpfPCRM"
      },
      "source": [
        "Автоэнкодер воспроизводит изображение цифр по вектору скрытого состояния."
      ]
    },
    {
      "cell_type": "code",
      "metadata": {
        "id": "hAgp8B0_fvQp"
      },
      "source": [
        "import numpy as np\n",
        "import matplotlib.pyplot as plt\n",
        "from tensorflow.keras.datasets import mnist\n",
        "from tensorflow import keras\n",
        "from tensorflow.keras.layers import Dense, Flatten, Reshape, Input"
      ],
      "execution_count": 1,
      "outputs": []
    },
    {
      "cell_type": "code",
      "metadata": {
        "id": "9AHmGmV0gHLi",
        "outputId": "ac95c43b-ecb2-4262-df0a-088fe24877fc",
        "colab": {
          "base_uri": "https://localhost:8080/",
          "height": 51
        }
      },
      "source": [
        "(x_train, y_train), (x_test, y_test) = mnist.load_data()\n",
        "\n",
        "x_train = x_train / 255\n",
        "x_test = x_test / 255\n",
        "\n",
        "x_train = np.reshape(x_train, (len(x_train), 28, 28, 1))\n",
        "x_test = np.reshape(x_test, (len(x_test), 28, 28, 1))"
      ],
      "execution_count": 2,
      "outputs": [
        {
          "output_type": "stream",
          "text": [
            "Downloading data from https://storage.googleapis.com/tensorflow/tf-keras-datasets/mnist.npz\n",
            "11493376/11490434 [==============================] - 0s 0us/step\n"
          ],
          "name": "stdout"
        }
      ]
    },
    {
      "cell_type": "code",
      "metadata": {
        "id": "XhwJU3kbgneI"
      },
      "source": [
        "input_img = Input((28, 28, 1)) # это слой\n",
        "\n",
        "# сеть строим в виде связанного графа, \n",
        "# слой связываем его с предыдущим слоем\n",
        "x = Flatten()(input_img) # вытягиваем вектор\n",
        "x = Dense(128, activation='relu')(x)\n",
        "x = Dense(64, activation='relu')(x)\n",
        "# коллекция входных слоёв автоэнкодера\n",
        "#encoded = Dense(49, activation='relu')(x) # слой(вектор) скрытого состояния\n",
        "encoded = Dense(2, activation='linear')(x)\n",
        "\n",
        "input_enc = Input(shape=(2,))\n",
        "d = Dense(64, activation='relu')(input_enc)\n",
        "d = Dense(28*28, activation='sigmoid')(d) # входные данные тоже от 0 до 1\n",
        "decoded = Reshape((28, 28, 1))(d) # коллекция выходных слоёв автоэнкодера\n",
        "\n",
        "# отдельно создаём модель энкодера и декодера\n",
        "encoder = keras.Model(input_img, encoded, name=\"encoder\")\n",
        "decoder = keras.Model(input_enc, decoded, name=\"decoder\")\n",
        "# формируем модель автоэнкодера\n",
        "autoencoder = keras.Model(input_img, decoder(encoder(input_img)), name=\"autoencoder\") \n",
        "autoencoder.compile(optimizer='adam', loss='mean_squared_error')"
      ],
      "execution_count": 4,
      "outputs": []
    },
    {
      "cell_type": "code",
      "metadata": {
        "id": "YG2aThEqig66",
        "outputId": "da9f292c-33b0-44ff-82f1-2658743acaf5",
        "colab": {
          "base_uri": "https://localhost:8080/",
          "height": 714
        }
      },
      "source": [
        "#batch_size = 100\n",
        "batch_size = 64\n",
        "\n",
        "autoencoder.fit(x_train, x_train, # автоэнкодер будет стараться восстанавливать наше изображение\n",
        "                epochs=20,\n",
        "                batch_size=batch_size,\n",
        "                shuffle=True)"
      ],
      "execution_count": 5,
      "outputs": [
        {
          "output_type": "stream",
          "text": [
            "Epoch 1/20\n",
            "938/938 [==============================] - 3s 3ms/step - loss: 0.0597\n",
            "Epoch 2/20\n",
            "938/938 [==============================] - 3s 3ms/step - loss: 0.0490\n",
            "Epoch 3/20\n",
            "938/938 [==============================] - 3s 3ms/step - loss: 0.0465\n",
            "Epoch 4/20\n",
            "938/938 [==============================] - 3s 3ms/step - loss: 0.0451\n",
            "Epoch 5/20\n",
            "938/938 [==============================] - 3s 3ms/step - loss: 0.0441\n",
            "Epoch 6/20\n",
            "938/938 [==============================] - 3s 3ms/step - loss: 0.0434\n",
            "Epoch 7/20\n",
            "938/938 [==============================] - 3s 3ms/step - loss: 0.0429\n",
            "Epoch 8/20\n",
            "938/938 [==============================] - 3s 3ms/step - loss: 0.0424\n",
            "Epoch 9/20\n",
            "938/938 [==============================] - 3s 3ms/step - loss: 0.0420\n",
            "Epoch 10/20\n",
            "938/938 [==============================] - 3s 3ms/step - loss: 0.0416\n",
            "Epoch 11/20\n",
            "938/938 [==============================] - 3s 3ms/step - loss: 0.0413\n",
            "Epoch 12/20\n",
            "938/938 [==============================] - 3s 3ms/step - loss: 0.0410\n",
            "Epoch 13/20\n",
            "938/938 [==============================] - 3s 3ms/step - loss: 0.0408\n",
            "Epoch 14/20\n",
            "938/938 [==============================] - 3s 3ms/step - loss: 0.0406\n",
            "Epoch 15/20\n",
            "938/938 [==============================] - 3s 3ms/step - loss: 0.0404\n",
            "Epoch 16/20\n",
            "938/938 [==============================] - 3s 3ms/step - loss: 0.0403\n",
            "Epoch 17/20\n",
            "938/938 [==============================] - 3s 3ms/step - loss: 0.0401\n",
            "Epoch 18/20\n",
            "938/938 [==============================] - 3s 3ms/step - loss: 0.0400\n",
            "Epoch 19/20\n",
            "938/938 [==============================] - 3s 3ms/step - loss: 0.0399\n",
            "Epoch 20/20\n",
            "938/938 [==============================] - 3s 3ms/step - loss: 0.0397\n"
          ],
          "name": "stdout"
        },
        {
          "output_type": "execute_result",
          "data": {
            "text/plain": [
              "<tensorflow.python.keras.callbacks.History at 0x7f7355e46be0>"
            ]
          },
          "metadata": {
            "tags": []
          },
          "execution_count": 5
        }
      ]
    },
    {
      "cell_type": "code",
      "metadata": {
        "id": "S9aMjfWgRTci"
      },
      "source": [
        "h = encoder.predict(x_test) # получим мноество точек которые соответствуют скрытому состоянию"
      ],
      "execution_count": 7,
      "outputs": []
    },
    {
      "cell_type": "code",
      "metadata": {
        "id": "tmKdLKABRicK",
        "outputId": "847df80e-95be-48e4-a5d4-6ffd48cd18fd",
        "colab": {
          "base_uri": "https://localhost:8080/",
          "height": 265
        }
      },
      "source": [
        "# распределение точек векторов скрытого состояния для тестового набора изображений\n",
        "# характерная картина формирования модели области отображения входного сигнала в пространство скрытого состояния\n",
        "a = plt.scatter(h[:, 0], h[:, 1])"
      ],
      "execution_count": 8,
      "outputs": [
        {
          "output_type": "display_data",
          "data": {
            "image/png": "[encoded data removed]",
            "text/plain": [
              "<Figure size 432x288 with 1 Axes>"
            ]
          },
          "metadata": {
            "tags": [],
            "needs_background": "light"
          }
        }
      ]
    },
    {
      "cell_type": "code",
      "metadata": {
        "id": "k936LNsaSgfK",
        "outputId": "9104b1fa-e275-4f78-bc5b-6bc5972169de",
        "colab": {
          "base_uri": "https://localhost:8080/",
          "height": 282
        }
      },
      "source": [
        "# дадим декодеру смоделировать нормальное изображение\n",
        "# дадим точку, которую декодер сможет интерпретировать\n",
        "img = decoder.predict(np.expand_dims([10, 10], axis=0))\n",
        "plt.imshow(img.squeeze(), cmap='gray')"
      ],
      "execution_count": 9,
      "outputs": [
        {
          "output_type": "execute_result",
          "data": {
            "text/plain": [
              "<matplotlib.image.AxesImage at 0x7f734abf1ba8>"
            ]
          },
          "metadata": {
            "tags": []
          },
          "execution_count": 9
        },
        {
          "output_type": "display_data",
          "data": {
            "image/png": "[encoded data removed]",
            "text/plain": [
              "<Figure size 432x288 with 1 Axes>"
            ]
          },
          "metadata": {
            "tags": [],
            "needs_background": "light"
          }
        }
      ]
    },
    {
      "cell_type": "markdown",
      "metadata": {
        "id": "xt5hZGtiTeuS"
      },
      "source": [
        "Мы не знаем какую точку выбрать чтобы получить нормальное изображение. Чтобы решить эту проблему пространство состояний должно быть компактным и представлять едуную цельную область, без существенных разделений, эту цель преследуют Вариационные Автоэнкдеры, Variational Autoencoders (VAE)."
      ]
    }
  ]
}